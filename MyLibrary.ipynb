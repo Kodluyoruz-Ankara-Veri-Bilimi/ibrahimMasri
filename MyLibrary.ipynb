{
 "cells": [
  {
   "cell_type": "code",
   "execution_count": 247,
   "metadata": {},
   "outputs": [],
   "source": [
    "class myLibrary:\n",
    "    import pandas as pd\n",
    "    import numpy as np\n",
    "    import matplotlib.pyplot as plot\n",
    "    import os\n",
    "    import seaborn as sns\n",
    "    from sklearn.preprocessing import OneHotEncoder\n",
    "    from scipy import stats\n",
    "    import pylab as py\n",
    "    import statsmodels.api as sm\n",
    "    import statsmodels.stats.api as sms\n",
    "    \n",
    "    def __init__(self,data):\n",
    "        self.data = data\n",
    "        \n",
    "    def printsummary(self): \n",
    "        print(self.data.info())\n",
    "        \n",
    "    def printData(self): \n",
    "        print(self.data)\n",
    "        \n",
    "    def headData(self, colunm):\n",
    "        print(self.data.head(colunm))\n",
    "        \n",
    "    def describeData(self): \n",
    "        print(self.data.describe())\n",
    "        \n",
    "    def describe(self,x): \n",
    "        print(self.stats.describe(x))\n",
    "    \n",
    "    def columnType(self): \n",
    "        print(self.data.dtypes)\n",
    "        #self.data.isnull().sum(axis = 0)\n",
    "        \n",
    "    #Data Visualiation\n",
    "    def distplot(self,cloumIndex):\n",
    "        f,axes = self.plot.subplots(1,1)\n",
    "        sns.distplot(self.data.iloc[:,cloumIndex])\n",
    "    \n",
    "    def countplot(self,cloumIndex):\n",
    "        f,axes = self.plot.subplots(1,1)\n",
    "        sns.countplot(self.data.iloc[:,cloumIndex],data=self.data)\n",
    "        \n",
    "    def boxplot(self):\n",
    "        sns.boxplot(data=self.data)\n",
    "        \n",
    "    def heatmap(self):\n",
    "        fig,ax = self.plot.subplots(figsize=(8, 8))\n",
    "        sns.heatmap(self.data.corr())\n",
    "    \n",
    "    def histogram(self,x):\n",
    "        self.pd.DataFrame(x).plot.hist()\n",
    "    \n",
    "    def histogramData(self):\n",
    "        self.pd.DataFrame(self.data['bad']).plot.hist()\n",
    "    \n",
    "    def probplot(self,cName):\n",
    "        self.stats.probplot(self.data[cName], dist=\"norm\", plot = self.py) \n",
    "        self.py.show()\n",
    "    \n",
    "    def qqplot(self,cName):\n",
    "        self.sm.qqplot(self.data[cName], line=\"s\")\n",
    "        self.py.show()\n",
    "    \n",
    "    def shapiro(self,cName,alpha):\n",
    "        stat, p = self.stats.shapiro(self.data[cName])\n",
    "        print(\"Statistics:%3.3f, p=%.3f \" % (stat,p))\n",
    "        # H0: Normal dagilimdan gelmektedir\n",
    "        # H1: Normal dagilimdan gelmemektedir.\n",
    "        if p>alpha:\n",
    "            print(\"Orneklem Normal (Gaussian) Dagilimdan gelmektedir (Fail to Reject H0)\")\n",
    "        else:\n",
    "            print(\"Orneklem Normal (Gaussian) Dagilimdan gelmemektedir (reject H0\")\n",
    "        \n",
    "    def ttest_1samp(self,cName,num):\n",
    "        stat, p = self.stats.ttest_1samp(self.data[cName], popmean=num)\n",
    "        print(\"Statistics:%3.3f, p=%.3f \" % (stat,p))\n",
    "    def ProbabilityDistribubtion(self,cName,num):\n",
    "        p = self.stats.t.ppf(q=num, df=len(self.data[cName]) -1)\n",
    "        print(\"p=%.3f \" % (p))\n",
    "    \n",
    "    def CumulativeDistribution(self,cName,num):\n",
    "        p = self.stats.t.cdf(x = num, df=len(self.data[cName])-1)*2\n",
    "        print(\"p=%.3f \" % (p))\n",
    "    \n",
    "    #Populasyon ve Sample ortalamasi araligini olcmek icin kullanilir.\n",
    "    def DescrStatsW(self,cName):\n",
    "        p =self.sms.DescrStatsW(self.data[cName]).tconfint_mean()\n",
    "        print(p)"
   ]
  },
  {
   "cell_type": "code",
   "execution_count": 248,
   "metadata": {},
   "outputs": [
    {
     "name": "stdout",
     "output_type": "stream",
     "text": [
      "bad          int64\n",
      "loan         int64\n",
      "mortdue    float64\n",
      "value      float64\n",
      "reason      object\n",
      "job         object\n",
      "yoj        float64\n",
      "derog      float64\n",
      "delinq     float64\n",
      "clage      float64\n",
      "ninq       float64\n",
      "clno       float64\n",
      "debtinc    float64\n",
      "dtype: object\n"
     ]
    }
   ],
   "source": [
    "import seaborn as sns\n",
    "import pandas as pd\n",
    "import numpy as np\n",
    "#iris = sns.load_dataset('iris')\n",
    "df = pd.read_csv(\"hmelq.csv\")\n",
    "mydata = myLibrary(df)\n",
    "mydata.columnType()"
   ]
  },
  {
   "cell_type": "code",
   "execution_count": 167,
   "metadata": {},
   "outputs": [
    {
     "name": "stdout",
     "output_type": "stream",
     "text": [
      "DescribeResult(nobs=50, minmax=(17, 251), mean=154.38, variance=2578.0363265306123, skewness=-0.32398897278694483, kurtosis=-0.05849823498415985)\n"
     ]
    }
   ],
   "source": [
    "olcumler = np.array([17, 160, 234, 149, 145, 107, 197, 75, 201, 225, 211, 119, \n",
    "               157, 145, 127, 244, 163, 114, 145,  65, 112, 185, 202, 146,\n",
    "               203, 224, 203, 114, 188, 156, 187, 154, 177, 95, 165, 50, 110, \n",
    "       216, 138, 151, 166, 135, 155, 84, 251, 173, 131, 207, 121, 120])\n",
    "mydata.describe(olcumler)"
   ]
  },
  {
   "cell_type": "code",
   "execution_count": 201,
   "metadata": {},
   "outputs": [
    {
     "name": "stdout",
     "output_type": "stream",
     "text": [
      "Statistics:0.985, p=0.785 \n",
      "Orneklem Normal (Gaussian) Dagilimdan gelmektedir (Fail to Reject H0)\n"
     ]
    }
   ],
   "source": [
    "mydata.shapiro('loan',0.05)"
   ]
  },
  {
   "cell_type": "code",
   "execution_count": 215,
   "metadata": {},
   "outputs": [
    {
     "name": "stdout",
     "output_type": "stream",
     "text": [
      "Statistics:97.480, p=0.000 \n"
     ]
    }
   ],
   "source": [
    "# Yonetici diyorki musteriler markette 170sn geciriyor mu test etmek istiyor.\n",
    "# H0: Musterilerin gecirdigi ortalama sure 170sn'dir   (m = 170)\n",
    "# H1: Musterilerin gecirdigi ortalama sure 170sn degildir (m != 170)\n",
    "mydata.ttest_1samp('loan',170)"
   ]
  }
 ],
 "metadata": {
  "kernelspec": {
   "display_name": "Python 3",
   "language": "python",
   "name": "python3"
  },
  "language_info": {
   "codemirror_mode": {
    "name": "ipython",
    "version": 3
   },
   "file_extension": ".py",
   "mimetype": "text/x-python",
   "name": "python",
   "nbconvert_exporter": "python",
   "pygments_lexer": "ipython3",
   "version": "3.7.7"
  }
 },
 "nbformat": 4,
 "nbformat_minor": 4
}
